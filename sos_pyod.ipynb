{
 "cells": [
  {
   "cell_type": "code",
   "id": "initial_id",
   "metadata": {
    "collapsed": true,
    "ExecuteTime": {
     "end_time": "2025-06-11T09:14:39.318511Z",
     "start_time": "2025-06-11T09:14:37.457379Z"
    }
   },
   "source": [
    "import h5py\n",
    "import numpy as np\n",
    "import matplotlib.pyplot as plt\n",
    "import seaborn as sns\n",
    "\n",
    "from sklearn.metrics import confusion_matrix, classification_report\n",
    "from sklearn.preprocessing import MinMaxScaler, StandardScaler\n",
    "from pyod.models.sos import SOS\n",
    "\n",
    "normal_path = \"fouriers/S01/1/Normal/q_data\"\n",
    "relay_path  = \"fouriers/S01/1/Relay/q_data\"\n",
    "\n",
    "with h5py.File(\"datasets/fouriers_S01_combined.h5\", \"r\") as f:\n",
    "    normal_group = f[normal_path]\n",
    "    relay_group  = f[relay_path]\n",
    "\n",
    "    dataset_normal = np.zeros((10916, 72))\n",
    "    dataset_relay  = np.zeros((9239, 72))\n",
    "\n",
    "    for i in range(10916):\n",
    "        try:\n",
    "            dataset_normal[i] = normal_group[str(i)][:]\n",
    "        except KeyError:\n",
    "            continue\n",
    "\n",
    "    for i in range(9239):\n",
    "        try:\n",
    "            dataset_relay[i] = relay_group[str(i)][:]\n",
    "        except KeyError:\n",
    "            continue\n",
    "\n",
    "scalerMinMax = MinMaxScaler()\n",
    "scalerStandard = StandardScaler()\n",
    "\n",
    "X_train               = dataset_normal[:9916]\n",
    "X_test_normal         = dataset_normal[9916:]\n",
    "X_test_relay          = dataset_relay[8239:]\n",
    "\n",
    "scalerMinMax.fit(X_train)\n",
    "X_train_scaled_minmax       = scalerMinMax.transform(X_train)\n",
    "X_test_norm_scaled_minmax   = scalerMinMax.transform(X_test_normal)\n",
    "X_test_relay_scaled_minmax  = scalerMinMax.transform(X_test_relay)\n",
    "\n",
    "scalerStandard.fit(X_train)\n",
    "X_train_scaled_standard        = scalerStandard.transform(X_train)\n",
    "X_test_norm_scaled_standard    = scalerStandard.transform(X_test_normal)\n",
    "X_test_relay_scaled_standard   = scalerStandard.transform(X_test_relay)\n",
    "\n",
    "X_test_combined = np.vstack((X_test_normal, X_test_relay))\n",
    "X_test_combined_scaled_minmax = np.vstack((X_test_norm_scaled_minmax, X_test_relay_scaled_minmax))\n",
    "X_test_combined_scaled_standard = np.vstack((X_test_norm_scaled_standard, X_test_relay_scaled_standard))\n",
    "\n",
    "y_true = np.array([0] * len(X_test_normal) + [1] * len(X_test_relay))"
   ],
   "outputs": [],
   "execution_count": 1
  },
  {
   "metadata": {
    "ExecuteTime": {
     "end_time": "2025-06-11T09:18:28.619791Z",
     "start_time": "2025-06-11T09:14:39.321834Z"
    }
   },
   "cell_type": "code",
   "source": [
    "clf = SOS(contamination=0.01)\n",
    "clf.fit(X_train)\n",
    "\n",
    "# pyod.predict: 0 = inlier, 1 = outlier\n",
    "y_pred = clf.predict(X_test_combined)\n",
    "\n",
    "# cm und report\n",
    "cm = confusion_matrix(y_true, y_pred, labels=[1,0])\n",
    "print(\"\\nClassification Report:\\n\", classification_report(y_true, y_pred, target_names=[\"Normal\",\"Relay\"]))\n",
    "\n",
    "# plot\n",
    "plt.figure(figsize=(6,5))\n",
    "sns.heatmap(cm, annot=True, fmt=\"d\",\n",
    "            xticklabels=[\"Relay\",\"Normal\"],\n",
    "            yticklabels=[\"Relay\",\"Normal\"],\n",
    "            cbar=False)\n",
    "plt.xlabel(\"Predicted\")\n",
    "plt.ylabel(\"True\")\n",
    "plt.title(\"Konfusionsmatrix\")\n",
    "plt.tight_layout()\n",
    "plt.show()"
   ],
   "id": "1e7fff7bf99be529",
   "outputs": [
    {
     "name": "stderr",
     "output_type": "stream",
     "text": [
      "/Library/Frameworks/Python.framework/Versions/3.12/lib/python3.12/site-packages/pyod/models/sos.py:201: RuntimeWarning: overflow encountered in multiply\n",
      "  beta[i] = beta[i] * 2.0\n"
     ]
    },
    {
     "ename": "SystemError",
     "evalue": "CPUDispatcher(<function _get_perplexity at 0x1226aeca0>) returned a result with an exception set",
     "output_type": "error",
     "traceback": [
      "\u001B[0;31m---------------------------------------------------------------------------\u001B[0m",
      "\u001B[0;31mKeyboardInterrupt\u001B[0m                         Traceback (most recent call last)",
      "File \u001B[0;32m/Library/Frameworks/Python.framework/Versions/3.12/lib/python3.12/site-packages/numba/core/serialize.py:30\u001B[0m, in \u001B[0;36m_numba_unpickle\u001B[0;34m(address, bytedata, hashed)\u001B[0m\n\u001B[1;32m     27\u001B[0m _unpickled_memo \u001B[38;5;241m=\u001B[39m {}\n\u001B[0;32m---> 30\u001B[0m \u001B[38;5;28;01mdef\u001B[39;00m\u001B[38;5;250m \u001B[39m\u001B[38;5;21m_numba_unpickle\u001B[39m(address, bytedata, hashed):\n\u001B[1;32m     31\u001B[0m \u001B[38;5;250m    \u001B[39m\u001B[38;5;124;03m\"\"\"Used by `numba_unpickle` from _helperlib.c\u001B[39;00m\n\u001B[1;32m     32\u001B[0m \n\u001B[1;32m     33\u001B[0m \u001B[38;5;124;03m    Parameters\u001B[39;00m\n\u001B[0;32m   (...)\u001B[0m\n\u001B[1;32m     42\u001B[0m \u001B[38;5;124;03m        unpickled object\u001B[39;00m\n\u001B[1;32m     43\u001B[0m \u001B[38;5;124;03m    \"\"\"\u001B[39;00m\n",
      "\u001B[0;31mKeyboardInterrupt\u001B[0m: ",
      "\nThe above exception was the direct cause of the following exception:\n",
      "\u001B[0;31mSystemError\u001B[0m                               Traceback (most recent call last)",
      "\u001B[0;31mSystemError\u001B[0m: <function _numba_unpickle at 0x123522e80> returned a result with an exception set",
      "\nThe above exception was the direct cause of the following exception:\n",
      "\u001B[0;31mSystemError\u001B[0m                               Traceback (most recent call last)",
      "Cell \u001B[0;32mIn[2], line 2\u001B[0m\n\u001B[1;32m      1\u001B[0m clf \u001B[38;5;241m=\u001B[39m SOS(contamination\u001B[38;5;241m=\u001B[39m\u001B[38;5;241m0.01\u001B[39m)\n\u001B[0;32m----> 2\u001B[0m \u001B[43mclf\u001B[49m\u001B[38;5;241;43m.\u001B[39;49m\u001B[43mfit\u001B[49m\u001B[43m(\u001B[49m\u001B[43mX_train\u001B[49m\u001B[43m)\u001B[49m\n\u001B[1;32m      4\u001B[0m \u001B[38;5;66;03m# pyod.predict: 0 = inlier, 1 = outlier\u001B[39;00m\n\u001B[1;32m      5\u001B[0m y_pred \u001B[38;5;241m=\u001B[39m clf\u001B[38;5;241m.\u001B[39mpredict(X_test_combined)\n",
      "File \u001B[0;32m/Library/Frameworks/Python.framework/Versions/3.12/lib/python3.12/site-packages/pyod/models/sos.py:274\u001B[0m, in \u001B[0;36mSOS.fit\u001B[0;34m(self, X, y)\u001B[0m\n\u001B[1;32m    272\u001B[0m \u001B[38;5;28mself\u001B[39m\u001B[38;5;241m.\u001B[39m_set_n_classes(y)\n\u001B[1;32m    273\u001B[0m D \u001B[38;5;241m=\u001B[39m \u001B[38;5;28mself\u001B[39m\u001B[38;5;241m.\u001B[39m_x2d(X)\n\u001B[0;32m--> 274\u001B[0m A \u001B[38;5;241m=\u001B[39m \u001B[38;5;28;43mself\u001B[39;49m\u001B[38;5;241;43m.\u001B[39;49m\u001B[43m_d2a\u001B[49m\u001B[43m(\u001B[49m\u001B[43mD\u001B[49m\u001B[43m)\u001B[49m\n\u001B[1;32m    275\u001B[0m B \u001B[38;5;241m=\u001B[39m \u001B[38;5;28mself\u001B[39m\u001B[38;5;241m.\u001B[39m_a2b(A)\n\u001B[1;32m    276\u001B[0m O \u001B[38;5;241m=\u001B[39m \u001B[38;5;28mself\u001B[39m\u001B[38;5;241m.\u001B[39m_b2o(B)\n",
      "File \u001B[0;32m/Library/Frameworks/Python.framework/Versions/3.12/lib/python3.12/site-packages/pyod/models/sos.py:211\u001B[0m, in \u001B[0;36mSOS._d2a\u001B[0;34m(self, D)\u001B[0m\n\u001B[1;32m    209\u001B[0m         beta[i] \u001B[38;5;241m=\u001B[39m (beta[i] \u001B[38;5;241m+\u001B[39m betamin) \u001B[38;5;241m/\u001B[39m \u001B[38;5;241m2.0\u001B[39m\n\u001B[1;32m    210\u001B[0m \u001B[38;5;66;03m# Recompute the values\u001B[39;00m\n\u001B[0;32m--> 211\u001B[0m (H, thisA) \u001B[38;5;241m=\u001B[39m \u001B[43m_get_perplexity\u001B[49m\u001B[43m(\u001B[49m\u001B[43mDi\u001B[49m\u001B[43m,\u001B[49m\u001B[43m \u001B[49m\u001B[43mbeta\u001B[49m\u001B[43m[\u001B[49m\u001B[43mi\u001B[49m\u001B[43m]\u001B[49m\u001B[43m)\u001B[49m\n\u001B[1;32m    212\u001B[0m Hdiff \u001B[38;5;241m=\u001B[39m H \u001B[38;5;241m-\u001B[39m logU\n\u001B[1;32m    213\u001B[0m tries \u001B[38;5;241m+\u001B[39m\u001B[38;5;241m=\u001B[39m \u001B[38;5;241m1\u001B[39m\n",
      "\u001B[0;31mSystemError\u001B[0m: CPUDispatcher(<function _get_perplexity at 0x1226aeca0>) returned a result with an exception set"
     ]
    }
   ],
   "execution_count": 2
  },
  {
   "metadata": {},
   "cell_type": "code",
   "outputs": [],
   "execution_count": null,
   "source": [
    "clf = SOS(contamination=0.01)\n",
    "clf.fit(X_train_scaled_standard)\n",
    "\n",
    "# pyod.predict: 0 = inlier, 1 = outlier\n",
    "y_pred = clf.predict(X_test_combined_scaled_standard)\n",
    "\n",
    "# cm und report\n",
    "cm = confusion_matrix(y_true, y_pred, labels=[1,0])\n",
    "print(\"\\nClassification Report:\\n\", classification_report(y_true, y_pred, target_names=[\"Normal\",\"Relay\"]))\n",
    "\n",
    "# plot\n",
    "plt.figure(figsize=(6,5))\n",
    "sns.heatmap(cm, annot=True, fmt=\"d\",\n",
    "            xticklabels=[\"Relay\",\"Normal\"],\n",
    "            yticklabels=[\"Relay\",\"Normal\"],\n",
    "            cbar=False)\n",
    "plt.xlabel(\"Predicted\")\n",
    "plt.ylabel(\"True\")\n",
    "plt.title(\"Konfusionsmatrix\")\n",
    "plt.tight_layout()\n",
    "plt.show()"
   ],
   "id": "e617dc00ea2658f3"
  },
  {
   "metadata": {},
   "cell_type": "code",
   "outputs": [],
   "execution_count": null,
   "source": [
    "clf = SOS(contamination=0.01)\n",
    "clf.fit(X_train_scaled_minmax)\n",
    "\n",
    "# pyod.predict: 0 = inlier, 1 = outlier\n",
    "y_pred = clf.predict(X_test_combined_scaled_minmax)\n",
    "\n",
    "# cm und report\n",
    "cm = confusion_matrix(y_true, y_pred, labels=[1,0])\n",
    "print(\"\\nClassification Report:\\n\", classification_report(y_true, y_pred, target_names=[\"Normal\",\"Relay\"]))\n",
    "\n",
    "# plot\n",
    "plt.figure(figsize=(6,5))\n",
    "sns.heatmap(cm, annot=True, fmt=\"d\",\n",
    "            xticklabels=[\"Relay\",\"Normal\"],\n",
    "            yticklabels=[\"Relay\",\"Normal\"],\n",
    "            cbar=False)\n",
    "plt.xlabel(\"Predicted\")\n",
    "plt.ylabel(\"True\")\n",
    "plt.title(\"Konfusionsmatrix\")\n",
    "plt.tight_layout()\n",
    "plt.show()"
   ],
   "id": "2c62fb29be7f452a"
  }
 ],
 "metadata": {
  "kernelspec": {
   "display_name": "Python 3",
   "language": "python",
   "name": "python3"
  },
  "language_info": {
   "codemirror_mode": {
    "name": "ipython",
    "version": 2
   },
   "file_extension": ".py",
   "mimetype": "text/x-python",
   "name": "python",
   "nbconvert_exporter": "python",
   "pygments_lexer": "ipython2",
   "version": "2.7.6"
  }
 },
 "nbformat": 4,
 "nbformat_minor": 5
}
